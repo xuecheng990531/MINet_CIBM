{
 "cells": [
  {
   "cell_type": "code",
   "execution_count": null,
   "metadata": {},
   "outputs": [],
   "source": [
    "dir='../hrf_data/train/mask'\n",
    "import os\n",
    "import cv2\n",
    "for i in range(len(os.listdir(dir))):\n",
    "    name=os.path.join(dir,os.listdir(dir)[i])\n",
    "    # if '.JPG' in name:\n",
    "    #     name=os.rename(name,os.path.join(dir,os.listdir(dir)[i].split('.')[0]+'.jpg'))\n",
    "    # else:\n",
    "    #     name=name\n",
    "    print(name)\n",
    "    img=cv2.imread(name)\n",
    "    img=cv2.resize(img,(512,512))\n",
    "    cv2.imwrite(name,img)\n",
    "    print(f'{name} ok')"
   ]
  },
  {
   "cell_type": "code",
   "execution_count": 4,
   "metadata": {},
   "outputs": [],
   "source": [
    "import torch\n",
    "x=torch.ones(1,1,32,32)\n",
    "y=torch.ones(1,1,32,32)"
   ]
  },
  {
   "cell_type": "code",
   "execution_count": 5,
   "metadata": {},
   "outputs": [
    {
     "data": {
      "text/plain": [
       "torch.Size([1, 1, 32, 32])"
      ]
     },
     "execution_count": 5,
     "metadata": {},
     "output_type": "execute_result"
    }
   ],
   "source": [
    "torch.add(x,y).shape"
   ]
  },
  {
   "cell_type": "code",
   "execution_count": 6,
   "metadata": {},
   "outputs": [
    {
     "data": {
      "text/plain": [
       "tensor([[[[2., 2., 2.,  ..., 2., 2., 2.],\n",
       "          [2., 2., 2.,  ..., 2., 2., 2.],\n",
       "          [2., 2., 2.,  ..., 2., 2., 2.],\n",
       "          ...,\n",
       "          [2., 2., 2.,  ..., 2., 2., 2.],\n",
       "          [2., 2., 2.,  ..., 2., 2., 2.],\n",
       "          [2., 2., 2.,  ..., 2., 2., 2.]]]])"
      ]
     },
     "execution_count": 6,
     "metadata": {},
     "output_type": "execute_result"
    }
   ],
   "source": [
    "torch.add(x,y)"
   ]
  }
 ],
 "metadata": {
  "kernelspec": {
   "display_name": "base",
   "language": "python",
   "name": "python3"
  },
  "language_info": {
   "codemirror_mode": {
    "name": "ipython",
    "version": 3
   },
   "file_extension": ".py",
   "mimetype": "text/x-python",
   "name": "python",
   "nbconvert_exporter": "python",
   "pygments_lexer": "ipython3",
   "version": "3.9.7 (default, Sep 16 2021, 13:09:58) \n[GCC 7.5.0]"
  },
  "orig_nbformat": 4,
  "vscode": {
   "interpreter": {
    "hash": "40d3a090f54c6569ab1632332b64b2c03c39dcf918b08424e98f38b5ae0af88f"
   }
  }
 },
 "nbformat": 4,
 "nbformat_minor": 2
}
